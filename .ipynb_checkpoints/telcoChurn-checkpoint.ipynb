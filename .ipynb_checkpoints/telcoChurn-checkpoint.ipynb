{
 "cells": [
  {
   "cell_type": "markdown",
   "metadata": {},
   "source": [
    "# Telco Churn Challenge\n"
   ]
  },
  {
   "cell_type": "code",
   "execution_count": 4,
   "metadata": {},
   "outputs": [
    {
     "name": "stdout",
     "output_type": "stream",
     "text": [
      "Requirement already satisfied: appdirs==1.4.4 in /home/ilaria/.local/lib/python3.7/site-packages (from -r requirements.txt (line 1)) (1.4.4)\n",
      "Requirement already satisfied: attrs==19.3.0 in /home/ilaria/anaconda3/lib/python3.7/site-packages (from -r requirements.txt (line 2)) (19.3.0)\n",
      "Requirement already satisfied: backcall==0.1.0 in /home/ilaria/anaconda3/lib/python3.7/site-packages (from -r requirements.txt (line 3)) (0.1.0)\n",
      "Requirement already satisfied: bleach==3.1.4 in /home/ilaria/anaconda3/lib/python3.7/site-packages (from -r requirements.txt (line 4)) (3.1.4)\n",
      "Requirement already satisfied: certifi==2020.4.5.1 in /home/ilaria/anaconda3/lib/python3.7/site-packages (from -r requirements.txt (line 5)) (2020.4.5.1)\n",
      "Requirement already satisfied: decorator==4.4.2 in /home/ilaria/anaconda3/lib/python3.7/site-packages (from -r requirements.txt (line 6)) (4.4.2)\n",
      "Requirement already satisfied: defusedxml==0.6.0 in /home/ilaria/anaconda3/lib/python3.7/site-packages (from -r requirements.txt (line 7)) (0.6.0)\n",
      "Requirement already satisfied: distlib==0.3.0 in /home/ilaria/.local/lib/python3.7/site-packages (from -r requirements.txt (line 8)) (0.3.0)\n",
      "Requirement already satisfied: entrypoints==0.3 in /home/ilaria/anaconda3/lib/python3.7/site-packages (from -r requirements.txt (line 9)) (0.3)\n",
      "Requirement already satisfied: importlib-metadata==1.6.0 in /home/ilaria/anaconda3/lib/python3.7/site-packages (from -r requirements.txt (line 10)) (1.6.0)\n",
      "Requirement already satisfied: ipykernel==5.1.4 in /home/ilaria/anaconda3/lib/python3.7/site-packages (from -r requirements.txt (line 11)) (5.1.4)\n",
      "Requirement already satisfied: ipython==7.13.0 in /home/ilaria/anaconda3/lib/python3.7/site-packages (from -r requirements.txt (line 12)) (7.13.0)\n",
      "Requirement already satisfied: ipython-genutils==0.2.0 in /home/ilaria/anaconda3/lib/python3.7/site-packages (from -r requirements.txt (line 13)) (0.2.0)\n",
      "Requirement already satisfied: jedi==0.17.0 in /home/ilaria/anaconda3/lib/python3.7/site-packages (from -r requirements.txt (line 14)) (0.17.0)\n",
      "Requirement already satisfied: Jinja2==2.11.2 in /home/ilaria/anaconda3/lib/python3.7/site-packages (from -r requirements.txt (line 15)) (2.11.2)\n",
      "Requirement already satisfied: jsonschema==3.2.0 in /home/ilaria/anaconda3/lib/python3.7/site-packages (from -r requirements.txt (line 16)) (3.2.0)\n",
      "Requirement already satisfied: jupyter-client==6.1.3 in /home/ilaria/anaconda3/lib/python3.7/site-packages (from -r requirements.txt (line 17)) (6.1.3)\n",
      "Requirement already satisfied: jupyter-core==4.6.3 in /home/ilaria/anaconda3/lib/python3.7/site-packages (from -r requirements.txt (line 18)) (4.6.3)\n",
      "Requirement already satisfied: MarkupSafe==1.1.1 in /home/ilaria/anaconda3/lib/python3.7/site-packages (from -r requirements.txt (line 19)) (1.1.1)\n",
      "Requirement already satisfied: mistune==0.8.4 in /home/ilaria/anaconda3/lib/python3.7/site-packages (from -r requirements.txt (line 20)) (0.8.4)\n",
      "Requirement already satisfied: nbconvert==5.6.1 in /home/ilaria/anaconda3/lib/python3.7/site-packages (from -r requirements.txt (line 21)) (5.6.1)\n",
      "Requirement already satisfied: nbformat==5.0.6 in /home/ilaria/anaconda3/lib/python3.7/site-packages (from -r requirements.txt (line 22)) (5.0.6)\n",
      "Requirement already satisfied: notebook==6.0.3 in /home/ilaria/anaconda3/lib/python3.7/site-packages (from -r requirements.txt (line 23)) (6.0.3)\n",
      "Requirement already satisfied: pandocfilters==1.4.2 in /home/ilaria/anaconda3/lib/python3.7/site-packages (from -r requirements.txt (line 24)) (1.4.2)\n",
      "Requirement already satisfied: parso==0.7.0 in /home/ilaria/anaconda3/lib/python3.7/site-packages (from -r requirements.txt (line 25)) (0.7.0)\n",
      "Requirement already satisfied: pexpect==4.8.0 in /home/ilaria/anaconda3/lib/python3.7/site-packages (from -r requirements.txt (line 26)) (4.8.0)\n",
      "Requirement already satisfied: pickleshare==0.7.5 in /home/ilaria/anaconda3/lib/python3.7/site-packages (from -r requirements.txt (line 27)) (0.7.5)\n",
      "Requirement already satisfied: pipenv==2020.6.2 in /home/ilaria/.local/lib/python3.7/site-packages (from -r requirements.txt (line 28)) (2020.6.2)\n",
      "Requirement already satisfied: prometheus-client==0.7.1 in /home/ilaria/anaconda3/lib/python3.7/site-packages (from -r requirements.txt (line 29)) (0.7.1)\n",
      "Requirement already satisfied: prompt-toolkit==3.0.5 in /home/ilaria/anaconda3/lib/python3.7/site-packages (from -r requirements.txt (line 30)) (3.0.5)\n",
      "Requirement already satisfied: ptyprocess==0.6.0 in /home/ilaria/anaconda3/lib/python3.7/site-packages (from -r requirements.txt (line 31)) (0.6.0)\n",
      "Requirement already satisfied: Pygments==2.6.1 in /home/ilaria/anaconda3/lib/python3.7/site-packages (from -r requirements.txt (line 32)) (2.6.1)\n",
      "Requirement already satisfied: pyrsistent==0.16.0 in /home/ilaria/anaconda3/lib/python3.7/site-packages (from -r requirements.txt (line 33)) (0.16.0)\n",
      "Requirement already satisfied: python-dateutil==2.8.1 in /home/ilaria/anaconda3/lib/python3.7/site-packages (from -r requirements.txt (line 34)) (2.8.1)\n",
      "Requirement already satisfied: pyzmq==18.1.1 in /home/ilaria/anaconda3/lib/python3.7/site-packages (from -r requirements.txt (line 35)) (18.1.1)\n",
      "Requirement already satisfied: Send2Trash==1.5.0 in /home/ilaria/anaconda3/lib/python3.7/site-packages (from -r requirements.txt (line 36)) (1.5.0)\n",
      "Requirement already satisfied: six==1.15.0 in /home/ilaria/anaconda3/lib/python3.7/site-packages (from -r requirements.txt (line 37)) (1.15.0)\n",
      "Requirement already satisfied: terminado==0.8.3 in /home/ilaria/anaconda3/lib/python3.7/site-packages (from -r requirements.txt (line 38)) (0.8.3)\n",
      "Requirement already satisfied: testpath==0.4.4 in /home/ilaria/anaconda3/lib/python3.7/site-packages (from -r requirements.txt (line 39)) (0.4.4)\n",
      "Requirement already satisfied: tornado==6.0.4 in /home/ilaria/anaconda3/lib/python3.7/site-packages (from -r requirements.txt (line 40)) (6.0.4)\n",
      "Requirement already satisfied: traitlets==4.3.3 in /home/ilaria/anaconda3/lib/python3.7/site-packages (from -r requirements.txt (line 41)) (4.3.3)\n",
      "Requirement already satisfied: virtualenv==20.0.21 in /home/ilaria/.local/lib/python3.7/site-packages (from -r requirements.txt (line 42)) (20.0.21)\n",
      "Requirement already satisfied: virtualenv-clone==0.5.4 in /home/ilaria/.local/lib/python3.7/site-packages (from -r requirements.txt (line 43)) (0.5.4)\n",
      "Requirement already satisfied: wcwidth==0.1.9 in /home/ilaria/anaconda3/lib/python3.7/site-packages (from -r requirements.txt (line 44)) (0.1.9)\n",
      "Requirement already satisfied: webencodings==0.5.1 in /home/ilaria/anaconda3/lib/python3.7/site-packages (from -r requirements.txt (line 45)) (0.5.1)\n",
      "Requirement already satisfied: zipp==3.1.0 in /home/ilaria/anaconda3/lib/python3.7/site-packages (from -r requirements.txt (line 46)) (3.1.0)\n",
      "Requirement already satisfied: setuptools>=18.5 in /home/ilaria/anaconda3/lib/python3.7/site-packages (from ipython==7.13.0->-r requirements.txt (line 12)) (47.1.1)\n",
      "Requirement already satisfied: pip>=18.0 in /home/ilaria/anaconda3/lib/python3.7/site-packages (from pipenv==2020.6.2->-r requirements.txt (line 28)) (20.1.1)\n",
      "Requirement already satisfied: filelock<4,>=3.0.0 in /home/ilaria/anaconda3/lib/python3.7/site-packages (from virtualenv==20.0.21->-r requirements.txt (line 42)) (3.0.12)\n"
     ]
    }
   ],
   "source": [
    "import pandas as pd\n",
    "import numpy\n",
    "import matplotlib.pyplot as plt\n",
    "import seaborn as sns\n",
    "from sklearn.metrics import accuracy_score\n",
    "from sklearn.ensemble import RandomForestClassifier\n",
    "from sklearn.linear_model import LogisticRegression\n",
    "from sklearn.neighbors import KNeighborsClassifier\n",
    "from sklearn.tree import DecisionTreeClassifier\n",
    "from sklearn.model_selection import train_test_split\n",
    "from sklearn.preprocessing import LabelEncoder\n",
    "!pip install -r requirements.txt"
   ]
  },
  {
   "cell_type": "markdown",
   "metadata": {},
   "source": [
    "## Load Data"
   ]
  },
  {
   "cell_type": "code",
   "execution_count": 5,
   "metadata": {},
   "outputs": [],
   "source": [
    "path_file = './WA_Fn-UseC_-Telco-Customer-Churn.train.csv'\n",
    "dataset = pd.read_csv(path_file)"
   ]
  },
  {
   "cell_type": "code",
   "execution_count": 6,
   "metadata": {},
   "outputs": [
    {
     "data": {
      "text/plain": [
       "(5634, 21)"
      ]
     },
     "execution_count": 6,
     "metadata": {},
     "output_type": "execute_result"
    }
   ],
   "source": [
    "dataset.shape"
   ]
  },
  {
   "cell_type": "markdown",
   "metadata": {},
   "source": [
    "## Print data type of each columns"
   ]
  },
  {
   "cell_type": "code",
   "execution_count": 7,
   "metadata": {},
   "outputs": [
    {
     "data": {
      "text/plain": [
       "Churn                object\n",
       "customerID           object\n",
       "gender               object\n",
       "SeniorCitizen         int64\n",
       "Partner              object\n",
       "Dependents           object\n",
       "tenure                int64\n",
       "PhoneService         object\n",
       "MultipleLines        object\n",
       "InternetService      object\n",
       "OnlineSecurity       object\n",
       "OnlineBackup         object\n",
       "DeviceProtection     object\n",
       "TechSupport          object\n",
       "StreamingTV          object\n",
       "StreamingMovies      object\n",
       "Contract             object\n",
       "PaperlessBilling     object\n",
       "PaymentMethod        object\n",
       "MonthlyCharges      float64\n",
       "TotalCharges         object\n",
       "dtype: object"
      ]
     },
     "execution_count": 7,
     "metadata": {},
     "output_type": "execute_result"
    }
   ],
   "source": [
    "dataset.dtypes"
   ]
  },
  {
   "cell_type": "markdown",
   "metadata": {},
   "source": [
    "## How many NaN values do exists in the numerical columns"
   ]
  },
  {
   "cell_type": "code",
   "execution_count": 8,
   "metadata": {},
   "outputs": [
    {
     "name": "stdout",
     "output_type": "stream",
     "text": [
      "SeniorCitizen 0\n",
      "tenure 0\n",
      "MonthlyCharges 0\n"
     ]
    }
   ],
   "source": [
    "numerical_columns = [col for col in dataset.columns if (dataset[col].dtype == 'int64' or dataset[col].dtype == 'float64')]\n",
    "numerical_columns\n",
    "for col in numerical_columns:\n",
    "     print(col, dataset[col].isnull().sum())  "
   ]
  },
  {
   "cell_type": "markdown",
   "metadata": {},
   "source": [
    "## How many empty strings do exist in the categorical columns"
   ]
  },
  {
   "cell_type": "code",
   "execution_count": 9,
   "metadata": {},
   "outputs": [
    {
     "name": "stdout",
     "output_type": "stream",
     "text": [
      "Churn 0\n",
      "customerID 0\n",
      "gender 0\n",
      "Partner 0\n",
      "Dependents 0\n",
      "PhoneService 0\n",
      "MultipleLines 0\n",
      "InternetService 0\n",
      "OnlineSecurity 0\n",
      "OnlineBackup 0\n",
      "DeviceProtection 0\n",
      "TechSupport 0\n",
      "StreamingTV 0\n",
      "StreamingMovies 0\n",
      "Contract 0\n",
      "PaperlessBilling 0\n",
      "PaymentMethod 0\n",
      "TotalCharges 10\n"
     ]
    }
   ],
   "source": [
    "categorical_columns = [col for col in dataset.columns if dataset[col].dtype == 'object']\n",
    "categorical_columns\n",
    "for col in categorical_columns:\n",
    "    cont = 0\n",
    "    for value in dataset[col]:\n",
    "        if not value.strip():   ## empty string with spaces included\n",
    "            cont += 1\n",
    "    print(col, cont)   "
   ]
  },
  {
   "cell_type": "markdown",
   "metadata": {},
   "source": [
    "## Unique values for categorical"
   ]
  },
  {
   "cell_type": "code",
   "execution_count": 10,
   "metadata": {},
   "outputs": [
    {
     "data": {
      "text/plain": [
       "[('Churn', 2),\n",
       " ('gender', 2),\n",
       " ('Partner', 2),\n",
       " ('Dependents', 2),\n",
       " ('PhoneService', 2),\n",
       " ('PaperlessBilling', 2),\n",
       " ('MultipleLines', 3),\n",
       " ('InternetService', 3),\n",
       " ('OnlineSecurity', 3),\n",
       " ('OnlineBackup', 3),\n",
       " ('DeviceProtection', 3),\n",
       " ('TechSupport', 3),\n",
       " ('StreamingTV', 3),\n",
       " ('StreamingMovies', 3),\n",
       " ('Contract', 3),\n",
       " ('PaymentMethod', 4),\n",
       " ('TotalCharges', 5300),\n",
       " ('customerID', 5634)]"
      ]
     },
     "execution_count": 10,
     "metadata": {},
     "output_type": "execute_result"
    }
   ],
   "source": [
    "unique_values = list(map(lambda col: dataset[col].nunique(), categorical_columns))\n",
    "d = dict(zip(categorical_columns, unique_values))\n",
    "sorted(d.items(), key=lambda x: x[1])"
   ]
  },
  {
   "cell_type": "markdown",
   "metadata": {},
   "source": [
    "## Convert TotalCharges from object into float64 (NaN values instead of empty strings)"
   ]
  },
  {
   "cell_type": "code",
   "execution_count": 11,
   "metadata": {},
   "outputs": [
    {
     "data": {
      "text/plain": [
       "Churn                object\n",
       "customerID           object\n",
       "gender               object\n",
       "SeniorCitizen         int64\n",
       "Partner              object\n",
       "Dependents           object\n",
       "tenure                int64\n",
       "PhoneService         object\n",
       "MultipleLines        object\n",
       "InternetService      object\n",
       "OnlineSecurity       object\n",
       "OnlineBackup         object\n",
       "DeviceProtection     object\n",
       "TechSupport          object\n",
       "StreamingTV          object\n",
       "StreamingMovies      object\n",
       "Contract             object\n",
       "PaperlessBilling     object\n",
       "PaymentMethod        object\n",
       "MonthlyCharges      float64\n",
       "TotalCharges        float64\n",
       "dtype: object"
      ]
     },
     "execution_count": 11,
     "metadata": {},
     "output_type": "execute_result"
    }
   ],
   "source": [
    "dataset['TotalCharges'] = pd.to_numeric(dataset['TotalCharges'], errors = 'coerce')\n",
    "dataset.dtypes"
   ]
  },
  {
   "cell_type": "markdown",
   "metadata": {},
   "source": [
    "## Updating the count of NaN values for numerical columns"
   ]
  },
  {
   "cell_type": "code",
   "execution_count": 12,
   "metadata": {},
   "outputs": [
    {
     "name": "stdout",
     "output_type": "stream",
     "text": [
      "SeniorCitizen 0\n",
      "tenure 0\n",
      "MonthlyCharges 0\n",
      "TotalCharges 10\n"
     ]
    }
   ],
   "source": [
    "numerical_columns = [col for col in dataset.columns if (dataset[col].dtype == 'int64' or dataset[col].dtype == 'float64')]\n",
    "for col in numerical_columns:\n",
    "     print(col, dataset[col].isnull().sum())  "
   ]
  },
  {
   "cell_type": "markdown",
   "metadata": {},
   "source": [
    "## Replace NaN values in TotalCharges column "
   ]
  },
  {
   "cell_type": "code",
   "execution_count": 13,
   "metadata": {},
   "outputs": [
    {
     "data": {
      "text/html": [
       "<div>\n",
       "<style scoped>\n",
       "    .dataframe tbody tr th:only-of-type {\n",
       "        vertical-align: middle;\n",
       "    }\n",
       "\n",
       "    .dataframe tbody tr th {\n",
       "        vertical-align: top;\n",
       "    }\n",
       "\n",
       "    .dataframe thead th {\n",
       "        text-align: right;\n",
       "    }\n",
       "</style>\n",
       "<table border=\"1\" class=\"dataframe\">\n",
       "  <thead>\n",
       "    <tr style=\"text-align: right;\">\n",
       "      <th></th>\n",
       "      <th>tenure</th>\n",
       "      <th>TotalCharges</th>\n",
       "    </tr>\n",
       "  </thead>\n",
       "  <tbody>\n",
       "    <tr>\n",
       "      <th>4</th>\n",
       "      <td>0</td>\n",
       "      <td>NaN</td>\n",
       "    </tr>\n",
       "    <tr>\n",
       "      <th>282</th>\n",
       "      <td>0</td>\n",
       "      <td>NaN</td>\n",
       "    </tr>\n",
       "    <tr>\n",
       "      <th>2419</th>\n",
       "      <td>0</td>\n",
       "      <td>NaN</td>\n",
       "    </tr>\n",
       "    <tr>\n",
       "      <th>2734</th>\n",
       "      <td>0</td>\n",
       "      <td>NaN</td>\n",
       "    </tr>\n",
       "    <tr>\n",
       "      <th>2903</th>\n",
       "      <td>0</td>\n",
       "      <td>NaN</td>\n",
       "    </tr>\n",
       "    <tr>\n",
       "      <th>3974</th>\n",
       "      <td>0</td>\n",
       "      <td>NaN</td>\n",
       "    </tr>\n",
       "    <tr>\n",
       "      <th>5023</th>\n",
       "      <td>0</td>\n",
       "      <td>NaN</td>\n",
       "    </tr>\n",
       "    <tr>\n",
       "      <th>5030</th>\n",
       "      <td>0</td>\n",
       "      <td>NaN</td>\n",
       "    </tr>\n",
       "    <tr>\n",
       "      <th>5343</th>\n",
       "      <td>0</td>\n",
       "      <td>NaN</td>\n",
       "    </tr>\n",
       "    <tr>\n",
       "      <th>5599</th>\n",
       "      <td>0</td>\n",
       "      <td>NaN</td>\n",
       "    </tr>\n",
       "  </tbody>\n",
       "</table>\n",
       "</div>"
      ],
      "text/plain": [
       "      tenure  TotalCharges\n",
       "4          0           NaN\n",
       "282        0           NaN\n",
       "2419       0           NaN\n",
       "2734       0           NaN\n",
       "2903       0           NaN\n",
       "3974       0           NaN\n",
       "5023       0           NaN\n",
       "5030       0           NaN\n",
       "5343       0           NaN\n",
       "5599       0           NaN"
      ]
     },
     "execution_count": 13,
     "metadata": {},
     "output_type": "execute_result"
    }
   ],
   "source": [
    "# columns with tenor 0 represent customers that didn't pay even a month\n",
    "dataset[['tenure', 'TotalCharges']][dataset['TotalCharges'] != dataset['TotalCharges']]"
   ]
  },
  {
   "cell_type": "code",
   "execution_count": 14,
   "metadata": {},
   "outputs": [],
   "source": [
    "dataset['TotalCharges'] = dataset['TotalCharges'].fillna(0) "
   ]
  },
  {
   "cell_type": "markdown",
   "metadata": {},
   "source": [
    "## Feature selection "
   ]
  },
  {
   "cell_type": "markdown",
   "metadata": {},
   "source": [
    "### Gender"
   ]
  },
  {
   "cell_type": "code",
   "execution_count": 15,
   "metadata": {},
   "outputs": [
    {
     "data": {
      "text/plain": [
       "[]"
      ]
     },
     "execution_count": 15,
     "metadata": {},
     "output_type": "execute_result"
    },
    {
     "data": {
      "image/png": "[encoded data removed]",
      "text/plain": [
       "<Figure size 432x288 with 1 Axes>"
      ]
     },
     "metadata": {
      "needs_background": "light"
     },
     "output_type": "display_data"
    }
   ],
   "source": [
    "g = dataset.groupby('gender')[\"Churn\"].value_counts().to_frame()\n",
    "g = g.rename({\"Churn\": 'Customer Percentage'}, axis=1).reset_index()\n",
    "g['Customer Percentage'] = g['Customer Percentage']/len(dataset)\n",
    "ax = sns.barplot(x='gender', y= 'Customer Percentage', hue='Churn', data=g, orient='v')\n",
    "ax.set_yticklabels(['{:,.0%}'.format(y) for y in ax.get_yticks()])\n",
    "ax.plot()"
   ]
  },
  {
   "cell_type": "markdown",
   "metadata": {},
   "source": [
    "Interpretando il grafico si ha che la popolazione è pressocché distribuita equamente e all'interno dei range sono quasi uguali anche i valori di Churn negativo e positivo tra uomini e donne. Questo suggerisce di poter eliminare la feature dal dataset"
   ]
  },
  {
   "cell_type": "markdown",
   "metadata": {},
   "source": [
    "## Distinguish target from features"
   ]
  },
  {
   "cell_type": "code",
   "execution_count": 16,
   "metadata": {},
   "outputs": [],
   "source": [
    "data = dataset.copy()\n",
    "y = data['Churn']\n",
    "X = data.drop(['Churn', 'customerID', 'gender'], axis = 1, inplace = False)"
   ]
  },
  {
   "cell_type": "code",
   "execution_count": 17,
   "metadata": {},
   "outputs": [],
   "source": [
    "X_train, X_valid, y_train, y_valid = train_test_split(X, y, test_size = 0.25, random_state = 1)"
   ]
  },
  {
   "cell_type": "markdown",
   "metadata": {},
   "source": [
    "## Distinguish between good and problematic columns"
   ]
  },
  {
   "cell_type": "code",
   "execution_count": 18,
   "metadata": {},
   "outputs": [
    {
     "data": {
      "text/plain": [
       "[]"
      ]
     },
     "execution_count": 18,
     "metadata": {},
     "output_type": "execute_result"
    }
   ],
   "source": [
    "categorical_columns.remove('Churn')\n",
    "categorical_columns.remove('customerID')\n",
    "categorical_columns.remove('gender')\n",
    "# columns that have values in both train and validation set\n",
    "good_columns = [col for col in categorical_columns if set(X_train[col]) == set(X_valid[col])]\n",
    "# columns that have values in validation but not in train set\n",
    "problematic_columns = list(set(X_valid.columns) - set(good_columns) - set(numerical_columns))\n",
    "problematic_columns"
   ]
  },
  {
   "cell_type": "markdown",
   "metadata": {},
   "source": [
    "## Label encoding "
   ]
  },
  {
   "cell_type": "code",
   "execution_count": 19,
   "metadata": {},
   "outputs": [
    {
     "name": "stdout",
     "output_type": "stream",
     "text": [
      "Partner ['No' 'Yes']\n",
      "Dependents ['No' 'Yes']\n",
      "PhoneService ['Yes' 'No']\n",
      "MultipleLines ['No' 'Yes' 'No phone service']\n",
      "InternetService ['DSL' 'Fiber optic' 'No']\n",
      "OnlineSecurity ['Yes' 'No' 'No internet service']\n",
      "OnlineBackup ['Yes' 'No' 'No internet service']\n",
      "DeviceProtection ['No' 'Yes' 'No internet service']\n",
      "TechSupport ['Yes' 'No' 'No internet service']\n",
      "StreamingTV ['No' 'Yes' 'No internet service']\n",
      "StreamingMovies ['No' 'Yes' 'No internet service']\n",
      "Contract ['One year' 'Month-to-month' 'Two year']\n",
      "PaperlessBilling ['No' 'Yes']\n",
      "PaymentMethod ['Bank transfer (automatic)' 'Electronic check' 'Credit card (automatic)'\n",
      " 'Mailed check']\n",
      "TotalCharges [ 469.25 2169.8   299.2  ... 8164.1  5825.5   450.65]\n"
     ]
    }
   ],
   "source": [
    "for col in X_train[categorical_columns]:\n",
    "    print(col, X_train[col].unique())"
   ]
  },
  {
   "cell_type": "markdown",
   "metadata": {},
   "source": [
    "### Values *'No phone service'* in MultipleLines column and *'No internet service'* in OnlineSecurity, Backup, DeviceProtection, TechSupport, StreamingTV, StreamingMovies columns are redundant because of PhoneService and InternetService columns"
   ]
  },
  {
   "cell_type": "code",
   "execution_count": 20,
   "metadata": {},
   "outputs": [
    {
     "name": "stderr",
     "output_type": "stream",
     "text": [
      "/home/ilaria/anaconda3/lib/python3.7/site-packages/pandas/core/generic.py:6746: SettingWithCopyWarning: \n",
      "A value is trying to be set on a copy of a slice from a DataFrame\n",
      "\n",
      "See the caveats in the documentation: https://pandas.pydata.org/pandas-docs/stable/user_guide/indexing.html#returning-a-view-versus-a-copy\n",
      "  self._update_inplace(new_data)\n"
     ]
    }
   ],
   "source": [
    "X_train['MultipleLines'].replace(to_replace = 'No phone service', value = 'No', inplace = True)\n",
    "X_valid['MultipleLines'].replace(to_replace = 'No phone service', value = 'No', inplace = True)\n",
    "X_train['OnlineSecurity'].replace(to_replace = 'No internet service', value = 'No', inplace = True)\n",
    "X_valid['OnlineSecurity'].replace(to_replace = 'No internet service', value = 'No', inplace = True)\n",
    "X_train['OnlineBackup'].replace(to_replace = 'No internet service', value = 'No', inplace = True)\n",
    "X_valid['OnlineBackup'].replace(to_replace = 'No internet service', value = 'No', inplace = True)\n",
    "X_train['DeviceProtection'].replace(to_replace = 'No internet service', value = 'No', inplace = True)\n",
    "X_valid['DeviceProtection'].replace(to_replace = 'No internet service', value = 'No', inplace = True)\n",
    "X_train['TechSupport'].replace(to_replace = 'No internet service', value = 'No', inplace = True)\n",
    "X_valid['TechSupport'].replace(to_replace = 'No internet service', value = 'No', inplace = True)\n",
    "X_train['StreamingTV'].replace(to_replace = 'No internet service', value = 'No', inplace = True)\n",
    "X_valid['StreamingTV'].replace(to_replace = 'No internet service', value = 'No', inplace = True)\n",
    "X_train['StreamingMovies'].replace(to_replace = 'No internet service', value = 'No', inplace = True)\n",
    "X_valid['StreamingMovies'].replace(to_replace = 'No internet service', value = 'No', inplace = True)"
   ]
  },
  {
   "cell_type": "code",
   "execution_count": 21,
   "metadata": {},
   "outputs": [
    {
     "name": "stdout",
     "output_type": "stream",
     "text": [
      "Partner ['No' 'Yes']\n",
      "Dependents ['No' 'Yes']\n",
      "PhoneService ['Yes' 'No']\n",
      "MultipleLines ['No' 'Yes']\n",
      "InternetService ['DSL' 'Fiber optic' 'No']\n",
      "OnlineSecurity ['Yes' 'No']\n",
      "OnlineBackup ['Yes' 'No']\n",
      "DeviceProtection ['No' 'Yes']\n",
      "TechSupport ['Yes' 'No']\n",
      "StreamingTV ['No' 'Yes']\n",
      "StreamingMovies ['No' 'Yes']\n",
      "Contract ['One year' 'Month-to-month' 'Two year']\n",
      "PaperlessBilling ['No' 'Yes']\n",
      "PaymentMethod ['Bank transfer (automatic)' 'Electronic check' 'Credit card (automatic)'\n",
      " 'Mailed check']\n",
      "TotalCharges [ 469.25 2169.8   299.2  ... 8164.1  5825.5   450.65]\n"
     ]
    }
   ],
   "source": [
    "for col in X_train[categorical_columns]:\n",
    "    print(col, X_train[col].unique())"
   ]
  },
  {
   "cell_type": "markdown",
   "metadata": {},
   "source": [
    "### Replace binary columns that have no and yes with 0 and 1"
   ]
  },
  {
   "cell_type": "code",
   "execution_count": 22,
   "metadata": {},
   "outputs": [
    {
     "name": "stderr",
     "output_type": "stream",
     "text": [
      "/home/ilaria/anaconda3/lib/python3.7/site-packages/ipykernel_launcher.py:1: SettingWithCopyWarning: \n",
      "A value is trying to be set on a copy of a slice from a DataFrame.\n",
      "Try using .loc[row_indexer,col_indexer] = value instead\n",
      "\n",
      "See the caveats in the documentation: https://pandas.pydata.org/pandas-docs/stable/user_guide/indexing.html#returning-a-view-versus-a-copy\n",
      "  \"\"\"Entry point for launching an IPython kernel.\n",
      "/home/ilaria/anaconda3/lib/python3.7/site-packages/ipykernel_launcher.py:2: SettingWithCopyWarning: \n",
      "A value is trying to be set on a copy of a slice from a DataFrame.\n",
      "Try using .loc[row_indexer,col_indexer] = value instead\n",
      "\n",
      "See the caveats in the documentation: https://pandas.pydata.org/pandas-docs/stable/user_guide/indexing.html#returning-a-view-versus-a-copy\n",
      "  \n",
      "/home/ilaria/anaconda3/lib/python3.7/site-packages/ipykernel_launcher.py:4: SettingWithCopyWarning: \n",
      "A value is trying to be set on a copy of a slice from a DataFrame.\n",
      "Try using .loc[row_indexer,col_indexer] = value instead\n",
      "\n",
      "See the caveats in the documentation: https://pandas.pydata.org/pandas-docs/stable/user_guide/indexing.html#returning-a-view-versus-a-copy\n",
      "  after removing the cwd from sys.path.\n",
      "/home/ilaria/anaconda3/lib/python3.7/site-packages/ipykernel_launcher.py:5: SettingWithCopyWarning: \n",
      "A value is trying to be set on a copy of a slice from a DataFrame.\n",
      "Try using .loc[row_indexer,col_indexer] = value instead\n",
      "\n",
      "See the caveats in the documentation: https://pandas.pydata.org/pandas-docs/stable/user_guide/indexing.html#returning-a-view-versus-a-copy\n",
      "  \"\"\"\n",
      "/home/ilaria/anaconda3/lib/python3.7/site-packages/ipykernel_launcher.py:7: SettingWithCopyWarning: \n",
      "A value is trying to be set on a copy of a slice from a DataFrame.\n",
      "Try using .loc[row_indexer,col_indexer] = value instead\n",
      "\n",
      "See the caveats in the documentation: https://pandas.pydata.org/pandas-docs/stable/user_guide/indexing.html#returning-a-view-versus-a-copy\n",
      "  import sys\n",
      "/home/ilaria/anaconda3/lib/python3.7/site-packages/ipykernel_launcher.py:8: SettingWithCopyWarning: \n",
      "A value is trying to be set on a copy of a slice from a DataFrame.\n",
      "Try using .loc[row_indexer,col_indexer] = value instead\n",
      "\n",
      "See the caveats in the documentation: https://pandas.pydata.org/pandas-docs/stable/user_guide/indexing.html#returning-a-view-versus-a-copy\n",
      "  \n",
      "/home/ilaria/anaconda3/lib/python3.7/site-packages/ipykernel_launcher.py:10: SettingWithCopyWarning: \n",
      "A value is trying to be set on a copy of a slice from a DataFrame.\n",
      "Try using .loc[row_indexer,col_indexer] = value instead\n",
      "\n",
      "See the caveats in the documentation: https://pandas.pydata.org/pandas-docs/stable/user_guide/indexing.html#returning-a-view-versus-a-copy\n",
      "  # Remove the CWD from sys.path while we load stuff.\n",
      "/home/ilaria/anaconda3/lib/python3.7/site-packages/ipykernel_launcher.py:11: SettingWithCopyWarning: \n",
      "A value is trying to be set on a copy of a slice from a DataFrame.\n",
      "Try using .loc[row_indexer,col_indexer] = value instead\n",
      "\n",
      "See the caveats in the documentation: https://pandas.pydata.org/pandas-docs/stable/user_guide/indexing.html#returning-a-view-versus-a-copy\n",
      "  # This is added back by InteractiveShellApp.init_path()\n",
      "/home/ilaria/anaconda3/lib/python3.7/site-packages/ipykernel_launcher.py:13: SettingWithCopyWarning: \n",
      "A value is trying to be set on a copy of a slice from a DataFrame.\n",
      "Try using .loc[row_indexer,col_indexer] = value instead\n",
      "\n",
      "See the caveats in the documentation: https://pandas.pydata.org/pandas-docs/stable/user_guide/indexing.html#returning-a-view-versus-a-copy\n",
      "  del sys.path[0]\n",
      "/home/ilaria/anaconda3/lib/python3.7/site-packages/ipykernel_launcher.py:14: SettingWithCopyWarning: \n",
      "A value is trying to be set on a copy of a slice from a DataFrame.\n",
      "Try using .loc[row_indexer,col_indexer] = value instead\n",
      "\n",
      "See the caveats in the documentation: https://pandas.pydata.org/pandas-docs/stable/user_guide/indexing.html#returning-a-view-versus-a-copy\n",
      "  \n",
      "/home/ilaria/anaconda3/lib/python3.7/site-packages/ipykernel_launcher.py:16: SettingWithCopyWarning: \n",
      "A value is trying to be set on a copy of a slice from a DataFrame.\n",
      "Try using .loc[row_indexer,col_indexer] = value instead\n",
      "\n",
      "See the caveats in the documentation: https://pandas.pydata.org/pandas-docs/stable/user_guide/indexing.html#returning-a-view-versus-a-copy\n",
      "  app.launch_new_instance()\n",
      "/home/ilaria/anaconda3/lib/python3.7/site-packages/ipykernel_launcher.py:17: SettingWithCopyWarning: \n",
      "A value is trying to be set on a copy of a slice from a DataFrame.\n",
      "Try using .loc[row_indexer,col_indexer] = value instead\n",
      "\n",
      "See the caveats in the documentation: https://pandas.pydata.org/pandas-docs/stable/user_guide/indexing.html#returning-a-view-versus-a-copy\n",
      "/home/ilaria/anaconda3/lib/python3.7/site-packages/ipykernel_launcher.py:19: SettingWithCopyWarning: \n",
      "A value is trying to be set on a copy of a slice from a DataFrame.\n",
      "Try using .loc[row_indexer,col_indexer] = value instead\n",
      "\n",
      "See the caveats in the documentation: https://pandas.pydata.org/pandas-docs/stable/user_guide/indexing.html#returning-a-view-versus-a-copy\n",
      "/home/ilaria/anaconda3/lib/python3.7/site-packages/ipykernel_launcher.py:20: SettingWithCopyWarning: \n",
      "A value is trying to be set on a copy of a slice from a DataFrame.\n",
      "Try using .loc[row_indexer,col_indexer] = value instead\n",
      "\n",
      "See the caveats in the documentation: https://pandas.pydata.org/pandas-docs/stable/user_guide/indexing.html#returning-a-view-versus-a-copy\n",
      "/home/ilaria/anaconda3/lib/python3.7/site-packages/ipykernel_launcher.py:22: SettingWithCopyWarning: \n",
      "A value is trying to be set on a copy of a slice from a DataFrame.\n",
      "Try using .loc[row_indexer,col_indexer] = value instead\n",
      "\n",
      "See the caveats in the documentation: https://pandas.pydata.org/pandas-docs/stable/user_guide/indexing.html#returning-a-view-versus-a-copy\n",
      "/home/ilaria/anaconda3/lib/python3.7/site-packages/ipykernel_launcher.py:23: SettingWithCopyWarning: \n",
      "A value is trying to be set on a copy of a slice from a DataFrame.\n",
      "Try using .loc[row_indexer,col_indexer] = value instead\n",
      "\n",
      "See the caveats in the documentation: https://pandas.pydata.org/pandas-docs/stable/user_guide/indexing.html#returning-a-view-versus-a-copy\n",
      "/home/ilaria/anaconda3/lib/python3.7/site-packages/ipykernel_launcher.py:25: SettingWithCopyWarning: \n",
      "A value is trying to be set on a copy of a slice from a DataFrame.\n",
      "Try using .loc[row_indexer,col_indexer] = value instead\n",
      "\n",
      "See the caveats in the documentation: https://pandas.pydata.org/pandas-docs/stable/user_guide/indexing.html#returning-a-view-versus-a-copy\n",
      "/home/ilaria/anaconda3/lib/python3.7/site-packages/ipykernel_launcher.py:26: SettingWithCopyWarning: \n",
      "A value is trying to be set on a copy of a slice from a DataFrame.\n",
      "Try using .loc[row_indexer,col_indexer] = value instead\n",
      "\n",
      "See the caveats in the documentation: https://pandas.pydata.org/pandas-docs/stable/user_guide/indexing.html#returning-a-view-versus-a-copy\n",
      "/home/ilaria/anaconda3/lib/python3.7/site-packages/ipykernel_launcher.py:28: SettingWithCopyWarning: \n",
      "A value is trying to be set on a copy of a slice from a DataFrame.\n",
      "Try using .loc[row_indexer,col_indexer] = value instead\n",
      "\n",
      "See the caveats in the documentation: https://pandas.pydata.org/pandas-docs/stable/user_guide/indexing.html#returning-a-view-versus-a-copy\n",
      "/home/ilaria/anaconda3/lib/python3.7/site-packages/ipykernel_launcher.py:29: SettingWithCopyWarning: \n",
      "A value is trying to be set on a copy of a slice from a DataFrame.\n",
      "Try using .loc[row_indexer,col_indexer] = value instead\n",
      "\n",
      "See the caveats in the documentation: https://pandas.pydata.org/pandas-docs/stable/user_guide/indexing.html#returning-a-view-versus-a-copy\n",
      "/home/ilaria/anaconda3/lib/python3.7/site-packages/ipykernel_launcher.py:31: SettingWithCopyWarning: \n",
      "A value is trying to be set on a copy of a slice from a DataFrame.\n",
      "Try using .loc[row_indexer,col_indexer] = value instead\n",
      "\n",
      "See the caveats in the documentation: https://pandas.pydata.org/pandas-docs/stable/user_guide/indexing.html#returning-a-view-versus-a-copy\n",
      "/home/ilaria/anaconda3/lib/python3.7/site-packages/ipykernel_launcher.py:32: SettingWithCopyWarning: \n",
      "A value is trying to be set on a copy of a slice from a DataFrame.\n",
      "Try using .loc[row_indexer,col_indexer] = value instead\n",
      "\n",
      "See the caveats in the documentation: https://pandas.pydata.org/pandas-docs/stable/user_guide/indexing.html#returning-a-view-versus-a-copy\n"
     ]
    }
   ],
   "source": [
    "X_train['Partner'] = X_train['Partner'].map({'No': 0, 'Yes': 1})\n",
    "X_valid['Partner'] = X_valid['Partner'].map({'No': 0, 'Yes': 1})\n",
    "\n",
    "X_train['Dependents'] = X_train['Dependents'].map({'No': 0, 'Yes': 1})\n",
    "X_valid['Dependents'] = X_valid['Dependents'].map({'No': 0, 'Yes': 1})\n",
    "\n",
    "X_train['PhoneService'] = X_train['PhoneService'].map({'No': 0, 'Yes': 1})\n",
    "X_valid['PhoneService'] = X_valid['PhoneService'].map({'No': 0, 'Yes': 1})\n",
    "\n",
    "X_train['MultipleLines'] = X_train['MultipleLines'].map({'No': 0, 'Yes': 1})\n",
    "X_valid['MultipleLines'] = X_valid['MultipleLines'].map({'No': 0, 'Yes': 1})\n",
    "\n",
    "X_train['OnlineSecurity'] = X_train['OnlineSecurity'].map({'No': 0, 'Yes': 1})\n",
    "X_valid['OnlineSecurity'] = X_valid['OnlineSecurity'].map({'No': 0, 'Yes': 1})\n",
    "\n",
    "X_train['OnlineBackup'] = X_train['OnlineBackup'].map({'No': 0, 'Yes': 1})\n",
    "X_valid['OnlineBackup'] = X_valid['OnlineBackup'].map({'No': 0, 'Yes': 1})\n",
    "\n",
    "X_train['DeviceProtection'] = X_train['DeviceProtection'].map({'No': 0, 'Yes': 1})\n",
    "X_valid['DeviceProtection'] = X_valid['DeviceProtection'].map({'No': 0, 'Yes': 1})\n",
    "\n",
    "X_train['TechSupport'] = X_train['TechSupport'].map({'No': 0, 'Yes': 1})\n",
    "X_valid['TechSupport'] = X_valid['TechSupport'].map({'No': 0, 'Yes': 1})\n",
    "\n",
    "X_train['StreamingTV'] = X_train['StreamingTV'].map({'No': 0, 'Yes': 1})\n",
    "X_valid['StreamingTV'] = X_valid['StreamingTV'].map({'No': 0, 'Yes': 1})\n",
    "\n",
    "X_train['StreamingMovies'] = X_train['StreamingMovies'].map({'No': 0, 'Yes': 1})\n",
    "X_valid['StreamingMovies'] = X_valid['StreamingMovies'].map({'No': 0, 'Yes': 1})\n",
    "\n",
    "X_train['PaperlessBilling'] = X_train['PaperlessBilling'].map({'No': 0, 'Yes': 1})\n",
    "X_valid['PaperlessBilling'] = X_valid['PaperlessBilling'].map({'No': 0, 'Yes': 1})"
   ]
  },
  {
   "cell_type": "markdown",
   "metadata": {},
   "source": [
    "### Replace InternetService column with 0 for *'No'*, 1 for *'DSL'* and 2 for *'Fiber optic'*"
   ]
  },
  {
   "cell_type": "code",
   "execution_count": 23,
   "metadata": {},
   "outputs": [
    {
     "name": "stderr",
     "output_type": "stream",
     "text": [
      "/home/ilaria/anaconda3/lib/python3.7/site-packages/ipykernel_launcher.py:1: SettingWithCopyWarning: \n",
      "A value is trying to be set on a copy of a slice from a DataFrame.\n",
      "Try using .loc[row_indexer,col_indexer] = value instead\n",
      "\n",
      "See the caveats in the documentation: https://pandas.pydata.org/pandas-docs/stable/user_guide/indexing.html#returning-a-view-versus-a-copy\n",
      "  \"\"\"Entry point for launching an IPython kernel.\n",
      "/home/ilaria/anaconda3/lib/python3.7/site-packages/ipykernel_launcher.py:2: SettingWithCopyWarning: \n",
      "A value is trying to be set on a copy of a slice from a DataFrame.\n",
      "Try using .loc[row_indexer,col_indexer] = value instead\n",
      "\n",
      "See the caveats in the documentation: https://pandas.pydata.org/pandas-docs/stable/user_guide/indexing.html#returning-a-view-versus-a-copy\n",
      "  \n"
     ]
    }
   ],
   "source": [
    "X_train['InternetService'] = X_train['InternetService'].map({'No': 0, 'DSL': 1, 'Fiber optic': 2})\n",
    "X_valid['InternetService'] = X_valid['InternetService'].map({'No': 0, 'DSL': 1, 'Fiber optic': 2})"
   ]
  },
  {
   "cell_type": "markdown",
   "metadata": {},
   "source": [
    "### Replace Contract column with 0 for *'Month-to-month'*, 1 for *'One year'* and 2 for *'Two year'*"
   ]
  },
  {
   "cell_type": "code",
   "execution_count": 24,
   "metadata": {},
   "outputs": [
    {
     "name": "stderr",
     "output_type": "stream",
     "text": [
      "/home/ilaria/anaconda3/lib/python3.7/site-packages/ipykernel_launcher.py:1: SettingWithCopyWarning: \n",
      "A value is trying to be set on a copy of a slice from a DataFrame.\n",
      "Try using .loc[row_indexer,col_indexer] = value instead\n",
      "\n",
      "See the caveats in the documentation: https://pandas.pydata.org/pandas-docs/stable/user_guide/indexing.html#returning-a-view-versus-a-copy\n",
      "  \"\"\"Entry point for launching an IPython kernel.\n",
      "/home/ilaria/anaconda3/lib/python3.7/site-packages/ipykernel_launcher.py:2: SettingWithCopyWarning: \n",
      "A value is trying to be set on a copy of a slice from a DataFrame.\n",
      "Try using .loc[row_indexer,col_indexer] = value instead\n",
      "\n",
      "See the caveats in the documentation: https://pandas.pydata.org/pandas-docs/stable/user_guide/indexing.html#returning-a-view-versus-a-copy\n",
      "  \n"
     ]
    }
   ],
   "source": [
    "X_train['Contract'] = X_train['Contract'].map({'Month-to-month': 0, 'One year': 1, 'Two year': 2})\n",
    "X_valid['Contract'] = X_valid['Contract'].map({'Month-to-month': 0, 'One year': 1, 'Two year': 2})"
   ]
  },
  {
   "cell_type": "markdown",
   "metadata": {},
   "source": [
    "### Replace PaymentMethod column with 0 for *'Mailed check'*, 1 for *'Bank transfer (automatic)'*, 2 for *'Electronic check'* and 3 for *'Credit card (automatic)'*"
   ]
  },
  {
   "cell_type": "code",
   "execution_count": 25,
   "metadata": {},
   "outputs": [
    {
     "name": "stderr",
     "output_type": "stream",
     "text": [
      "/home/ilaria/anaconda3/lib/python3.7/site-packages/ipykernel_launcher.py:2: SettingWithCopyWarning: \n",
      "A value is trying to be set on a copy of a slice from a DataFrame.\n",
      "Try using .loc[row_indexer,col_indexer] = value instead\n",
      "\n",
      "See the caveats in the documentation: https://pandas.pydata.org/pandas-docs/stable/user_guide/indexing.html#returning-a-view-versus-a-copy\n",
      "  \n",
      "/home/ilaria/anaconda3/lib/python3.7/site-packages/ipykernel_launcher.py:4: SettingWithCopyWarning: \n",
      "A value is trying to be set on a copy of a slice from a DataFrame.\n",
      "Try using .loc[row_indexer,col_indexer] = value instead\n",
      "\n",
      "See the caveats in the documentation: https://pandas.pydata.org/pandas-docs/stable/user_guide/indexing.html#returning-a-view-versus-a-copy\n",
      "  after removing the cwd from sys.path.\n"
     ]
    }
   ],
   "source": [
    "X_train['PaymentMethod'] = X_train['PaymentMethod'].map({'Mailed check': 0, 'Bank transfer (automatic)': 1,\n",
    "                                                         'Electronic check': 2, 'Credit card (automatic)': 3})\n",
    "X_valid['PaymentMethod'] = X_valid['PaymentMethod'].map({'Mailed check': 0, 'Bank transfer (automatic)': 1,\n",
    "                                                         'Electronic check': 2, 'Credit card (automatic)': 3})"
   ]
  },
  {
   "cell_type": "code",
   "execution_count": 26,
   "metadata": {},
   "outputs": [
    {
     "name": "stdout",
     "output_type": "stream",
     "text": [
      "SeniorCitizen [0 1]\n",
      "Partner [0 1]\n",
      "Dependents [0 1]\n",
      "tenure [ 8 23  4 26 30 66 71 33 65  1 20 67 53 15 55 61 14 58 64 40 37 72  3 24\n",
      " 22 13 34 46  5  2 18 50 45 39 12 47 31 11 32  9 54 69 10 27  7 29 16 44\n",
      " 38 42 63 35 68 57 49 56 51  6 70 60 41 17 36 52 19 48 43 25 59 28 21 62\n",
      "  0]\n",
      "PhoneService [1 0]\n",
      "MultipleLines [0 1]\n",
      "InternetService [1 2 0]\n",
      "OnlineSecurity [1 0]\n",
      "OnlineBackup [1 0]\n",
      "DeviceProtection [0 1]\n",
      "TechSupport [1 0]\n",
      "StreamingTV [0 1]\n",
      "StreamingMovies [0 1]\n",
      "Contract [1 0 2]\n",
      "PaperlessBilling [0 1]\n",
      "PaymentMethod [1 2 3 0]\n",
      "MonthlyCharges [ 58.2   90.05  77.85 ...  81.1   97.35 113.4 ]\n",
      "TotalCharges [ 469.25 2169.8   299.2  ... 8164.1  5825.5   450.65]\n"
     ]
    }
   ],
   "source": [
    "for col in X_train.columns:\n",
    "    print(col, X_train[col].unique())"
   ]
  },
  {
   "cell_type": "markdown",
   "metadata": {},
   "source": [
    "## Trying RandomForest with different parameters"
   ]
  },
  {
   "cell_type": "code",
   "execution_count": 27,
   "metadata": {},
   "outputs": [
    {
     "name": "stdout",
     "output_type": "stream",
     "text": [
      "(estimators, depth) =  (50, 3) score:  0.7927608232789212\n",
      "(estimators, depth) =  (50, 4) score:  0.7984386089425124\n",
      "(estimators, depth) =  (50, 5) score:  0.8005677785663591\n",
      "(estimators, depth) =  (50, 10) score:  0.7998580553584103\n",
      "(estimators, depth) =  (50, 15) score:  0.7970191625266146\n",
      "(estimators, depth) =  (50, 20) score:  0.7984386089425124\n",
      "(estimators, depth) =  (75, 3) score:  0.7920511000709723\n",
      "(estimators, depth) =  (75, 4) score:  0.8005677785663591\n",
      "(estimators, depth) =  (75, 5) score:  0.7955997161107168\n",
      "(estimators, depth) =  (75, 10) score:  0.8026969481902059\n",
      "(estimators, depth) =  (75, 15) score:  0.8005677785663591\n",
      "(estimators, depth) =  (75, 20) score:  0.7977288857345636\n",
      "(estimators, depth) =  (100, 3) score:  0.7927608232789212\n",
      "(estimators, depth) =  (100, 4) score:  0.7963094393186657\n",
      "(estimators, depth) =  (100, 5) score:  0.7963094393186657\n",
      "(estimators, depth) =  (100, 10) score:  0.8069552874378992\n",
      "(estimators, depth) =  (100, 15) score:  0.7991483321504613\n",
      "(estimators, depth) =  (100, 20) score:  0.7970191625266146\n",
      "(estimators, depth) =  (150, 3) score:  0.7920511000709723\n",
      "(estimators, depth) =  (150, 4) score:  0.7984386089425124\n",
      "(estimators, depth) =  (150, 5) score:  0.7984386089425124\n",
      "(estimators, depth) =  (150, 10) score:  0.8062455642299503\n",
      "(estimators, depth) =  (150, 15) score:  0.7977288857345636\n",
      "(estimators, depth) =  (150, 20) score:  0.8026969481902059\n"
     ]
    }
   ],
   "source": [
    "n_estimators = [50,75,100,150]\n",
    "max_depths = [3, 4, 5, 10, 15, 20]\n",
    "\n",
    "tests = [ (estimator, depth) for estimator in n_estimators for depth in max_depths]\n",
    "\n",
    "for test in tests:\n",
    "    estimator, depth = test\n",
    "    model = RandomForestClassifier(n_estimators = estimator, random_state = 1, max_depth = depth)\n",
    "    model.fit(X_train, y_train)\n",
    "    score = model.score(X_valid, y_valid)\n",
    "    print('(estimators, depth) = ', test, 'score: ', score)"
   ]
  },
  {
   "cell_type": "markdown",
   "metadata": {},
   "source": [
    "Best parameters: *n_estimators* = 100, *max_depth* = 10"
   ]
  },
  {
   "cell_type": "code",
   "execution_count": 28,
   "metadata": {},
   "outputs": [
    {
     "name": "stdout",
     "output_type": "stream",
     "text": [
      "depth =  3 score:  0.7927608232789212\n",
      "depth =  4 score:  0.7821149751596878\n",
      "depth =  5 score:  0.7799858055358411\n",
      "depth =  10 score:  0.7494677075940384\n",
      "depth =  15 score:  0.7217885024840313\n",
      "depth =  20 score:  0.7217885024840313\n"
     ]
    }
   ],
   "source": [
    "max_depths = [3, 4, 5, 10, 15, 20]\n",
    "\n",
    "tests = [ depth for depth in max_depths]\n",
    "\n",
    "for test in tests:\n",
    "    depth = test\n",
    "    model = DecisionTreeClassifier(max_depth = depth, random_state = 1)\n",
    "    model.fit(X_train, y_train)\n",
    "    score = model.score(X_valid, y_valid)\n",
    "    print('depth = ', test, 'score: ', score)"
   ]
  },
  {
   "cell_type": "markdown",
   "metadata": {},
   "source": [
    "Best parameters: *max_depth* = 3"
   ]
  },
  {
   "cell_type": "markdown",
   "metadata": {},
   "source": [
    "## Trying KNN with different *'n_neighbors'*"
   ]
  },
  {
   "cell_type": "code",
   "execution_count": 29,
   "metadata": {},
   "outputs": [
    {
     "name": "stdout",
     "output_type": "stream",
     "text": [
      "[0.7501774308019872, 0.7707594038325053, 0.7615330021291696, 0.7750177430801988, 0.7771469127040455, 0.7856635911994322, 0.7856635911994322, 0.7842441447835344, 0.7885024840312278, 0.7849538679914834, 0.7828246983676366, 0.7814052519517388]\n"
     ]
    }
   ],
   "source": [
    "score_list=[]\n",
    "for each in range(3, 15):\n",
    "    knn2=KNeighborsClassifier(n_neighbors=each)\n",
    "    knn2.fit(X_train,y_train)\n",
    "    score_list.append(knn2.score(X_valid,y_valid))\n",
    "print(score_list)"
   ]
  },
  {
   "cell_type": "markdown",
   "metadata": {},
   "source": [
    "Best paramenters: *k_neighbors* = 11"
   ]
  },
  {
   "cell_type": "markdown",
   "metadata": {},
   "source": [
    "## Testing different models"
   ]
  },
  {
   "cell_type": "code",
   "execution_count": 30,
   "metadata": {},
   "outputs": [
    {
     "data": {
      "text/plain": [
       "DecisionTreeClassifier(ccp_alpha=0.0, class_weight=None, criterion='gini',\n",
       "                       max_depth=3, max_features=None, max_leaf_nodes=None,\n",
       "                       min_impurity_decrease=0.0, min_impurity_split=None,\n",
       "                       min_samples_leaf=1, min_samples_split=2,\n",
       "                       min_weight_fraction_leaf=0.0, presort='deprecated',\n",
       "                       random_state=1, splitter='best')"
      ]
     },
     "execution_count": 30,
     "metadata": {},
     "output_type": "execute_result"
    }
   ],
   "source": [
    "#RANDOM FOREST\n",
    "rndf = RandomForestClassifier(n_estimators = 150, max_depth = 10, random_state = 1)\n",
    "rndf.fit(X_train, y_train)\n",
    "\n",
    "\n",
    "#LOGISTIC REGRESSION\n",
    "lr=LogisticRegression()\n",
    "lr.fit(X_train,y_train)\n",
    "\n",
    "\n",
    "#KNN\n",
    "knn=KNeighborsClassifier(n_neighbors=11)\n",
    "knn.fit(X_train,y_train)\n",
    "\n",
    "\n",
    "#DECISION TREE \n",
    "dt=DecisionTreeClassifier(max_depth = 3, random_state = 1)\n",
    "dt.fit(X_train,y_train)"
   ]
  },
  {
   "cell_type": "markdown",
   "metadata": {},
   "source": [
    "## Output accuracy"
   ]
  },
  {
   "cell_type": "code",
   "execution_count": 31,
   "metadata": {},
   "outputs": [
    {
     "name": "stdout",
     "output_type": "stream",
     "text": [
      "Validation accuracy RandomForest:  [0.8062455642299503]\n",
      "\n",
      "\n",
      "Validation accuracy Logistic Regression:  [0.7963094393186657]\n",
      "\n",
      "\n",
      "Validation accuracy KNN:  [0.7885024840312278]\n",
      "\n",
      "\n",
      "Validation accuracy DecisionTree:  [0.7885024840312278]\n",
      "\n",
      "\n"
     ]
    }
   ],
   "source": [
    "validation_accuracy_RandomForest = []\n",
    "validation_accuracy_RandomForest.append(rndf.score(X_valid, y_valid))\n",
    "print('Validation accuracy RandomForest: ', validation_accuracy_RandomForest)\n",
    "print('\\n')\n",
    "\n",
    "validation_accuracy_LogisticRegression = []\n",
    "validation_accuracy_LogisticRegression.append(lr.score(X_valid, y_valid))\n",
    "print('Validation accuracy Logistic Regression: ', validation_accuracy_LogisticRegression)\n",
    "print('\\n')\n",
    "\n",
    "\n",
    "validation_accuracy_KNN = []\n",
    "validation_accuracy_KNN.append(knn.score(X_valid, y_valid))\n",
    "print('Validation accuracy KNN: ', validation_accuracy_KNN)\n",
    "print('\\n')\n",
    "\n",
    "\n",
    "validation_decisionTree_accuracy = []\n",
    "validation_decisionTree_accuracy.append(knn.score(X_valid, y_valid))\n",
    "print('Validation accuracy DecisionTree: ', validation_decisionTree_accuracy)\n",
    "print('\\n')"
   ]
  },
  {
   "cell_type": "markdown",
   "metadata": {},
   "source": [
    "## Model used for predictions \n",
    "### Random forest *rndf*"
   ]
  },
  {
   "cell_type": "code",
   "execution_count": null,
   "metadata": {},
   "outputs": [],
   "source": []
  }
 ],
 "metadata": {
  "kernelspec": {
   "display_name": "Python 3",
   "language": "python",
   "name": "python3"
  },
  "language_info": {
   "codemirror_mode": {
    "name": "ipython",
    "version": 3
   },
   "file_extension": ".py",
   "mimetype": "text/x-python",
   "name": "python",
   "nbconvert_exporter": "python",
   "pygments_lexer": "ipython3",
   "version": "3.7.6"
  }
 },
 "nbformat": 4,
 "nbformat_minor": 4
}
